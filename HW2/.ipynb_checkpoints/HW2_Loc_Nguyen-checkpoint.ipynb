{
 "cells": [
  {
   "cell_type": "code",
   "execution_count": 1,
   "id": "39bbe490",
   "metadata": {},
   "outputs": [
    {
     "name": "stdout",
     "output_type": "stream",
     "text": [
      "Writing hw2_part1.py\n"
     ]
    }
   ],
   "source": [
    "%%file hw2_part1.py\n",
    "import re\n",
    "import json\n",
    "\n",
    "from mrjob.job import MRJob\n",
    "\n",
    "QUALITY_RE = re.compile(r\"[01459]\")\n",
    "\n",
    "class Part1(MRJob):\n",
    "    \n",
    "    def mapper(self, _, line):\n",
    "        val = line.strip()\n",
    "        (column_key,row_key,values) = (val[0],val[2],val[4:7])\n",
    "        yield column_key, {\"value\":int(values)}\n",
    "        yield row_key, {\"value\":int(values)}\n",
    "\n",
    "    def reducer(self, key, values):\n",
    "        val_arr = []\n",
    "        for i in values:\n",
    "            val_arr.append((i[\"value\"]))\n",
    "        if  65 <= ord(key) <= 74:\n",
    "            col_max = max(val_arr)\n",
    "            yield key, {\"max\":col_max}\n",
    "        elif 75 <= ord(key) <= 84:\n",
    "            row_min = min(val_arr)\n",
    "            yield key, {\"min\":row_min}\n",
    "\n",
    "if __name__ == '__main__':\n",
    "    Part1.run()"
   ]
  },
  {
   "cell_type": "code",
   "execution_count": 3,
   "id": "023c1373",
   "metadata": {},
   "outputs": [
    {
     "name": "stdout",
     "output_type": "stream",
     "text": [
      "\"A\"\t{\"max\":994}\n",
      "\"B\"\t{\"max\":999}\n",
      "\"C\"\t{\"max\":987}\n",
      "\"D\"\t{\"max\":995}\n",
      "\"E\"\t{\"max\":998}\n",
      "\"F\"\t{\"max\":997}\n",
      "\"G\"\t{\"max\":997}\n",
      "\"H\"\t{\"max\":997}\n",
      "\"I\"\t{\"max\":995}\n",
      "\"J\"\t{\"max\":992}\n",
      "\"K\"\t{\"min\":0}\n",
      "\"L\"\t{\"min\":3}\n",
      "\"M\"\t{\"min\":0}\n",
      "\"N\"\t{\"min\":13}\n",
      "\"O\"\t{\"min\":1}\n",
      "\"P\"\t{\"min\":12}\n",
      "\"Q\"\t{\"min\":0}\n",
      "\"R\"\t{\"min\":2}\n",
      "\"S\"\t{\"min\":5}\n",
      "\"T\"\t{\"min\":2}\n"
     ]
    },
    {
     "name": "stderr",
     "output_type": "stream",
     "text": [
      "No configs found; falling back on auto-configuration\n",
      "No configs specified for inline runner\n",
      "Creating temp directory C:\\Users\\locng\\AppData\\Local\\Temp\\hw2_part1.locng.20231009.172756.035702\n",
      "Running step 1 of 1...\n",
      "job output is in C:\\Users\\locng\\AppData\\Local\\Temp\\hw2_part1.locng.20231009.172756.035702\\output\n",
      "Streaming final output from C:\\Users\\locng\\AppData\\Local\\Temp\\hw2_part1.locng.20231009.172756.035702\\output...\n",
      "Removing temp directory C:\\Users\\locng\\AppData\\Local\\Temp\\hw2_part1.locng.20231009.172756.035702...\n"
     ]
    }
   ],
   "source": [
    "!python hw2_part1.py cs4650hw1.dat"
   ]
  },
  {
   "cell_type": "code",
   "execution_count": 14,
   "id": "716e830d",
   "metadata": {},
   "outputs": [
    {
     "name": "stdout",
     "output_type": "stream",
     "text": [
      "Overwriting hw2_part3.py\n"
     ]
    }
   ],
   "source": [
    "%%file hw2_part3.py\n",
    "import re\n",
    "import json\n",
    "\n",
    "from mrjob.job import MRJob\n",
    "\n",
    "QUALITY_RE = re.compile(r\"[01459]\")\n",
    "\n",
    "class Part3(MRJob):\n",
    "        \n",
    "    def mapper(self, _, line):\n",
    "        val = line.strip()\n",
    "        (column_key,row_key,values) = (val[0],val[2],val[4:7])\n",
    "        yield column_key, {\"value\":int(values),\"location\":row_key}\n",
    "        yield row_key, {\"value\":int(values),\"location\":column_key}\n",
    "\n",
    "    def reducer(self, key, values):\n",
    "        val_arr =[]\n",
    "        location_arr = []\n",
    "        location = \"\"\n",
    "        for i in values:\n",
    "            val_arr.append(i[\"value\"])\n",
    "            location_arr.append(i)\n",
    "        if  65 <= ord(key) <= 74:\n",
    "            col_max = max(val_arr)\n",
    "            for pair in location_arr:\n",
    "                if pair[\"value\"] == col_max:\n",
    "                    location += pair[\"location\"] + \" \" \n",
    "            location = location.rstrip()\n",
    "            yield key, {\"max\":col_max,\"location\":location}\n",
    "        elif 75 <= ord(key) <= 84:\n",
    "            row_min = min(val_arr)\n",
    "            for pair in location_arr:\n",
    "                if pair[\"value\"] == row_min:\n",
    "                    location += pair[\"location\"] + \" \" \n",
    "            location = location.rstrip()\n",
    "            yield key, {\"min\":row_min,\"location\":location}\n",
    "\n",
    "if __name__ == '__main__':\n",
    "    Part3.run()"
   ]
  },
  {
   "cell_type": "code",
   "execution_count": 15,
   "id": "a9047df9",
   "metadata": {},
   "outputs": [
    {
     "name": "stdout",
     "output_type": "stream",
     "text": [
      "\"A\"\t{\"max\":994,\"location\":\"R P\"}\n",
      "\"B\"\t{\"max\":999,\"location\":\"N\"}\n",
      "\"C\"\t{\"max\":987,\"location\":\"S\"}\n",
      "\"D\"\t{\"max\":995,\"location\":\"M\"}\n",
      "\"E\"\t{\"max\":998,\"location\":\"N S\"}\n",
      "\"F\"\t{\"max\":997,\"location\":\"M\"}\n",
      "\"G\"\t{\"max\":997,\"location\":\"M\"}\n",
      "\"H\"\t{\"max\":997,\"location\":\"P\"}\n",
      "\"I\"\t{\"max\":995,\"location\":\"S\"}\n",
      "\"J\"\t{\"max\":992,\"location\":\"K\"}\n",
      "\"K\"\t{\"min\":0,\"location\":\"H\"}\n",
      "\"L\"\t{\"min\":3,\"location\":\"H B\"}\n",
      "\"M\"\t{\"min\":0,\"location\":\"E\"}\n",
      "\"N\"\t{\"min\":13,\"location\":\"B\"}\n",
      "\"O\"\t{\"min\":1,\"location\":\"H\"}\n",
      "\"P\"\t{\"min\":12,\"location\":\"B\"}\n",
      "\"Q\"\t{\"min\":0,\"location\":\"C G\"}\n",
      "\"R\"\t{\"min\":2,\"location\":\"F\"}\n",
      "\"S\"\t{\"min\":5,\"location\":\"I\"}\n",
      "\"T\"\t{\"min\":2,\"location\":\"G\"}\n"
     ]
    },
    {
     "name": "stderr",
     "output_type": "stream",
     "text": [
      "No configs found; falling back on auto-configuration\n",
      "No configs specified for inline runner\n",
      "Creating temp directory C:\\Users\\locng\\AppData\\Local\\Temp\\hw2_part3.locng.20231009.184041.874297\n",
      "Running step 1 of 1...\n",
      "job output is in C:\\Users\\locng\\AppData\\Local\\Temp\\hw2_part3.locng.20231009.184041.874297\\output\n",
      "Streaming final output from C:\\Users\\locng\\AppData\\Local\\Temp\\hw2_part3.locng.20231009.184041.874297\\output...\n",
      "Removing temp directory C:\\Users\\locng\\AppData\\Local\\Temp\\hw2_part3.locng.20231009.184041.874297...\n"
     ]
    }
   ],
   "source": [
    "!python hw2_part3.py cs4650hw1.dat"
   ]
  },
  {
   "cell_type": "code",
   "execution_count": 16,
   "id": "bc7560b7",
   "metadata": {},
   "outputs": [
    {
     "name": "stdout",
     "output_type": "stream",
     "text": [
      "Overwriting hw2_part2.py\n"
     ]
    }
   ],
   "source": [
    "%%file hw2_part2.py\n",
    "import re\n",
    "import json\n",
    "\n",
    "from mrjob.job import MRJob\n",
    "\n",
    "QUALITY_RE = re.compile(r\"[01459]\")\n",
    "\n",
    "class Part2(MRJob):\n",
    "        \n",
    "    def mapper(self, _, line):\n",
    "        val = line.strip()\n",
    "        (column_key,row_key,values) = (val[0],val[2],val[4:7])\n",
    "        yield column_key, {\"value\":int(values),\"location\":row_key}\n",
    "        yield row_key, {\"value\":int(values),\"location\":column_key}\n",
    "\n",
    "    def reducer(self, key, values):\n",
    "        val_arr =[]\n",
    "        location_arr = []\n",
    "        location = \"\"\n",
    "        for i in values:\n",
    "            val_arr.append(i[\"value\"])\n",
    "            location_arr.append(i)\n",
    "        if  65 <= ord(key) <= 74:\n",
    "            col_max = max(val_arr)\n",
    "            for pair in location_arr:\n",
    "                if pair[\"value\"] == col_max:\n",
    "                    location += pair[\"location\"] + \" \" \n",
    "            location = location.rstrip()\n",
    "            yield key, {\"max\":col_max,\"location\":location[0]}\n",
    "        elif 75 <= ord(key) <= 84:\n",
    "            row_min = min(val_arr)\n",
    "            for pair in location_arr:\n",
    "                if pair[\"value\"] == row_min:\n",
    "                    location += pair[\"location\"] + \" \" \n",
    "            location = location.rstrip()\n",
    "            yield key, {\"min\":row_min,\"location\":location[0]}\n",
    "\n",
    "if __name__ == '__main__':\n",
    "    Part2.run()"
   ]
  },
  {
   "cell_type": "code",
   "execution_count": 17,
   "id": "e79327c9",
   "metadata": {},
   "outputs": [
    {
     "name": "stdout",
     "output_type": "stream",
     "text": [
      "\"A\"\t{\"max\":994,\"location\":\"R\"}\n",
      "\"B\"\t{\"max\":999,\"location\":\"N\"}\n",
      "\"C\"\t{\"max\":987,\"location\":\"S\"}\n",
      "\"D\"\t{\"max\":995,\"location\":\"M\"}\n",
      "\"E\"\t{\"max\":998,\"location\":\"N\"}\n",
      "\"F\"\t{\"max\":997,\"location\":\"M\"}\n",
      "\"G\"\t{\"max\":997,\"location\":\"M\"}\n",
      "\"H\"\t{\"max\":997,\"location\":\"P\"}\n",
      "\"I\"\t{\"max\":995,\"location\":\"S\"}\n",
      "\"J\"\t{\"max\":992,\"location\":\"K\"}\n",
      "\"K\"\t{\"min\":0,\"location\":\"H\"}\n",
      "\"L\"\t{\"min\":3,\"location\":\"H\"}\n",
      "\"M\"\t{\"min\":0,\"location\":\"E\"}\n",
      "\"N\"\t{\"min\":13,\"location\":\"B\"}\n",
      "\"O\"\t{\"min\":1,\"location\":\"H\"}\n",
      "\"P\"\t{\"min\":12,\"location\":\"B\"}\n",
      "\"Q\"\t{\"min\":0,\"location\":\"C\"}\n",
      "\"R\"\t{\"min\":2,\"location\":\"F\"}\n",
      "\"S\"\t{\"min\":5,\"location\":\"I\"}\n",
      "\"T\"\t{\"min\":2,\"location\":\"G\"}\n"
     ]
    },
    {
     "name": "stderr",
     "output_type": "stream",
     "text": [
      "No configs found; falling back on auto-configuration\n",
      "No configs specified for inline runner\n",
      "Creating temp directory C:\\Users\\locng\\AppData\\Local\\Temp\\hw2_part2.locng.20231009.184049.027659\n",
      "Running step 1 of 1...\n",
      "job output is in C:\\Users\\locng\\AppData\\Local\\Temp\\hw2_part2.locng.20231009.184049.027659\\output\n",
      "Streaming final output from C:\\Users\\locng\\AppData\\Local\\Temp\\hw2_part2.locng.20231009.184049.027659\\output...\n",
      "Removing temp directory C:\\Users\\locng\\AppData\\Local\\Temp\\hw2_part2.locng.20231009.184049.027659...\n"
     ]
    }
   ],
   "source": [
    "!python hw2_part2.py cs4650hw1.dat"
   ]
  }
 ],
 "metadata": {
  "kernelspec": {
   "display_name": "Python 3 (ipykernel)",
   "language": "python",
   "name": "python3"
  },
  "language_info": {
   "codemirror_mode": {
    "name": "ipython",
    "version": 3
   },
   "file_extension": ".py",
   "mimetype": "text/x-python",
   "name": "python",
   "nbconvert_exporter": "python",
   "pygments_lexer": "ipython3",
   "version": "3.11.5"
  }
 },
 "nbformat": 4,
 "nbformat_minor": 5
}
