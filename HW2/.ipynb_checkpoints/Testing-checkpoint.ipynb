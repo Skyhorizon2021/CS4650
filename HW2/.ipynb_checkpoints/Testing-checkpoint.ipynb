{
 "cells": [
  {
   "cell_type": "code",
   "execution_count": null,
   "id": "ee79b524",
   "metadata": {},
   "outputs": [],
   "source": [
    "%%file part1.py\n",
    "import re\n",
    "import json\n",
    "\n",
    "from mrjob.job import MRJob\n",
    "\n",
    "QUALITY_RE = re.compile(r\"[01459]\")\n",
    "\n",
    "class Part1(MRJob):\n",
    "    \n",
    "    def mapper(self, _, line):\n",
    "        val = line.strip()\n",
    "        \n",
    "        if (wind_direction != \"999\" and re.match(QUALITY_RE,wind_quality)) and (temp != \"+9999\" and re.match(QUALITY_RE, temp_quality)):\n",
    "            yield \n",
    "\n",
    "    def reducer(self, key, values):\n",
    "        count = 0\n",
    "        temp_arr = []\n",
    "        for i in values:\n",
    "            count += i[\"count\"]\n",
    "            temp_arr.append((i[\"temp\"]))\n",
    "        min_temp = min(temp_arr)\n",
    "        max_temp = max(temp_arr)\n",
    "        yield int(key), {\"low\":min_temp,\"high\":max_temp,\"count\":count}\n",
    "\n",
    "if __name__ == '__main__':\n",
    "    Part1.run()"
   ]
  }
 ],
 "metadata": {
  "kernelspec": {
   "display_name": "Python 3 (ipykernel)",
   "language": "python",
   "name": "python3"
  },
  "language_info": {
   "codemirror_mode": {
    "name": "ipython",
    "version": 3
   },
   "file_extension": ".py",
   "mimetype": "text/x-python",
   "name": "python",
   "nbconvert_exporter": "python",
   "pygments_lexer": "ipython3",
   "version": "3.11.5"
  }
 },
 "nbformat": 4,
 "nbformat_minor": 5
}
