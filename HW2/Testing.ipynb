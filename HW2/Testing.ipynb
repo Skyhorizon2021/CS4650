{
 "cells": [
  {
   "cell_type": "code",
   "execution_count": 18,
   "id": "ee79b524",
   "metadata": {},
   "outputs": [
    {
     "name": "stdout",
     "output_type": "stream",
     "text": [
      "Overwriting part1.py\n"
     ]
    }
   ],
   "source": [
    "%%file part1.py\n",
    "import re\n",
    "import json\n",
    "\n",
    "from mrjob.job import MRJob\n",
    "\n",
    "QUALITY_RE = re.compile(r\"[01459]\")\n",
    "\n",
    "class Part1(MRJob):\n",
    "    \n",
    "    def mapper(self, _, line):\n",
    "        val = line.strip()\n",
    "        (column_key,row_key,values) = (val[0],val[2],val[4:7])\n",
    "        yield column_key, {\"value\":int(values)}\n",
    "        yield row_key, {\"value\":int(values)}\n",
    "\n",
    "    def reducer(self, key, values):\n",
    "        val_arr = []\n",
    "        for i in values:\n",
    "            val_arr.append((i[\"value\"]))\n",
    "        if  65 <= ord(key) <= 74:\n",
    "            col_max = max(val_arr)\n",
    "            yield key, {\"max\":col_max}\n",
    "        elif 75 <= ord(key) <= 84:\n",
    "            row_min = min(val_arr)\n",
    "            yield key, {\"min\":row_min}\n",
    "\n",
    "if __name__ == '__main__':\n",
    "    Part1.run()"
   ]
  },
  {
   "cell_type": "code",
   "execution_count": null,
   "id": "03f7fbec",
   "metadata": {},
   "outputs": [],
   "source": []
  },
  {
   "cell_type": "code",
   "execution_count": 19,
   "id": "9bbce3e5",
   "metadata": {},
   "outputs": [
    {
     "name": "stdout",
     "output_type": "stream",
     "text": [
      "\"A\"\t{\"max\":994}\n",
      "\"B\"\t{\"max\":999}\n",
      "\"C\"\t{\"max\":987}\n",
      "\"D\"\t{\"max\":995}\n",
      "\"E\"\t{\"max\":998}\n",
      "\"F\"\t{\"max\":997}\n",
      "\"G\"\t{\"max\":997}\n",
      "\"H\"\t{\"max\":997}\n",
      "\"I\"\t{\"max\":995}\n",
      "\"J\"\t{\"max\":992}\n",
      "\"K\"\t{\"min\":0}\n",
      "\"L\"\t{\"min\":3}\n",
      "\"M\"\t{\"min\":0}\n",
      "\"N\"\t{\"min\":13}\n",
      "\"O\"\t{\"min\":1}\n",
      "\"P\"\t{\"min\":12}\n",
      "\"Q\"\t{\"min\":0}\n",
      "\"R\"\t{\"min\":2}\n",
      "\"S\"\t{\"min\":5}\n",
      "\"T\"\t{\"min\":2}\n"
     ]
    },
    {
     "name": "stderr",
     "output_type": "stream",
     "text": [
      "No configs found; falling back on auto-configuration\n",
      "No configs specified for inline runner\n",
      "Creating temp directory C:\\Users\\locng\\AppData\\Local\\Temp\\part1.locng.20231009.172533.433314\n",
      "Running step 1 of 1...\n",
      "job output is in C:\\Users\\locng\\AppData\\Local\\Temp\\part1.locng.20231009.172533.433314\\output\n",
      "Streaming final output from C:\\Users\\locng\\AppData\\Local\\Temp\\part1.locng.20231009.172533.433314\\output...\n",
      "Removing temp directory C:\\Users\\locng\\AppData\\Local\\Temp\\part1.locng.20231009.172533.433314...\n"
     ]
    }
   ],
   "source": [
    "!python part1.py cs4650hw1.dat"
   ]
  },
  {
   "cell_type": "code",
   "execution_count": 77,
   "id": "5ee1a480",
   "metadata": {},
   "outputs": [
    {
     "name": "stdout",
     "output_type": "stream",
     "text": [
      "Overwriting hw2_part2.py\n"
     ]
    }
   ],
   "source": [
    "%%file hw2_part2.py\n",
    "import re\n",
    "import json\n",
    "\n",
    "from mrjob.job import MRJob\n",
    "\n",
    "QUALITY_RE = re.compile(r\"[01459]\")\n",
    "\n",
    "class Part2(MRJob):\n",
    "    #def get_index(element, lst):\n",
    "    #    return [i for i in range(len(lst)) if lst[i] == element]\n",
    "    #def maximum(arr_of_dict):\n",
    "        \n",
    "    def mapper(self, _, line):\n",
    "        val = line.strip()\n",
    "        (column_key,row_key,values) = (val[0],val[2],val[4:7])\n",
    "        yield column_key, {\"value\":int(values),\"location\":row_key}\n",
    "        yield row_key, {\"value\":int(values),\"location\":column_key}\n",
    "\n",
    "    def reducer(self, key, values):\n",
    "        val_arr =[]\n",
    "        location_arr = []\n",
    "        location = \"\"\n",
    "        for i in values:\n",
    "            val_arr.append(i[\"value\"])\n",
    "            location_arr.append(i)\n",
    "        if  65 <= ord(key) <= 74:\n",
    "            col_max = max(val_arr)\n",
    "            for pair in location_arr:\n",
    "                if pair[\"value\"] == col_max:\n",
    "                    location += pair[\"location\"] + \" \" \n",
    "            location = location.rstrip()\n",
    "            yield key, {\"max\":col_max,\"location\":location[0]}\n",
    "        elif 75 <= ord(key) <= 84:\n",
    "            row_min = min(val_arr)\n",
    "            for pair in location_arr:\n",
    "                if pair[\"value\"] == row_min:\n",
    "                    location += pair[\"location\"] + \" \" \n",
    "            location = location.rstrip()\n",
    "            yield key, {\"max\":row_min,\"location\":location[0]}\n",
    "\n",
    "if __name__ == '__main__':\n",
    "    Part2.run()"
   ]
  },
  {
   "cell_type": "code",
   "execution_count": 78,
   "id": "7be6e4f1",
   "metadata": {},
   "outputs": [
    {
     "name": "stdout",
     "output_type": "stream",
     "text": [
      "\"A\"\t{\"max\":994,\"location\":\"R\"}\n",
      "\"B\"\t{\"max\":999,\"location\":\"N\"}\n",
      "\"C\"\t{\"max\":987,\"location\":\"S\"}\n",
      "\"D\"\t{\"max\":995,\"location\":\"M\"}\n",
      "\"E\"\t{\"max\":998,\"location\":\"N\"}\n",
      "\"F\"\t{\"max\":997,\"location\":\"M\"}\n",
      "\"G\"\t{\"max\":997,\"location\":\"M\"}\n",
      "\"H\"\t{\"max\":997,\"location\":\"P\"}\n",
      "\"I\"\t{\"max\":995,\"location\":\"S\"}\n",
      "\"J\"\t{\"max\":992,\"location\":\"K\"}\n",
      "\"K\"\t{\"max\":0,\"location\":\"H\"}\n",
      "\"L\"\t{\"max\":3,\"location\":\"H\"}\n",
      "\"M\"\t{\"max\":0,\"location\":\"E\"}\n",
      "\"N\"\t{\"max\":13,\"location\":\"B\"}\n",
      "\"O\"\t{\"max\":1,\"location\":\"H\"}\n",
      "\"P\"\t{\"max\":12,\"location\":\"B\"}\n",
      "\"Q\"\t{\"max\":0,\"location\":\"C\"}\n",
      "\"R\"\t{\"max\":2,\"location\":\"F\"}\n",
      "\"S\"\t{\"max\":5,\"location\":\"I\"}\n",
      "\"T\"\t{\"max\":2,\"location\":\"G\"}\n"
     ]
    },
    {
     "name": "stderr",
     "output_type": "stream",
     "text": [
      "No configs found; falling back on auto-configuration\n",
      "No configs specified for inline runner\n",
      "Creating temp directory C:\\Users\\locng\\AppData\\Local\\Temp\\hw2_part2.locng.20231009.183641.287627\n",
      "Running step 1 of 1...\n",
      "job output is in C:\\Users\\locng\\AppData\\Local\\Temp\\hw2_part2.locng.20231009.183641.287627\\output\n",
      "Streaming final output from C:\\Users\\locng\\AppData\\Local\\Temp\\hw2_part2.locng.20231009.183641.287627\\output...\n",
      "Removing temp directory C:\\Users\\locng\\AppData\\Local\\Temp\\hw2_part2.locng.20231009.183641.287627...\n"
     ]
    }
   ],
   "source": [
    "!python hw2_part2.py cs4650hw1.dat"
   ]
  }
 ],
 "metadata": {
  "kernelspec": {
   "display_name": "Python 3 (ipykernel)",
   "language": "python",
   "name": "python3"
  },
  "language_info": {
   "codemirror_mode": {
    "name": "ipython",
    "version": 3
   },
   "file_extension": ".py",
   "mimetype": "text/x-python",
   "name": "python",
   "nbconvert_exporter": "python",
   "pygments_lexer": "ipython3",
   "version": "3.11.5"
  }
 },
 "nbformat": 4,
 "nbformat_minor": 5
}
