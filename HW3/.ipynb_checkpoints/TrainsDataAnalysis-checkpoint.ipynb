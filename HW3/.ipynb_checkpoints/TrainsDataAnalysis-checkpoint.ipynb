{
 "cells": [
  {
   "cell_type": "code",
   "execution_count": 1,
   "id": "2927f440",
   "metadata": {
    "scrolled": true
   },
   "outputs": [
    {
     "data": {
      "text/html": [
       "<div>\n",
       "<style scoped>\n",
       "    .dataframe tbody tr th:only-of-type {\n",
       "        vertical-align: middle;\n",
       "    }\n",
       "\n",
       "    .dataframe tbody tr th {\n",
       "        vertical-align: top;\n",
       "    }\n",
       "\n",
       "    .dataframe thead th {\n",
       "        text-align: right;\n",
       "    }\n",
       "</style>\n",
       "<table border=\"1\" class=\"dataframe\">\n",
       "  <thead>\n",
       "    <tr style=\"text-align: right;\">\n",
       "      <th></th>\n",
       "      <th>Class</th>\n",
       "      <th>Start</th>\n",
       "      <th>End</th>\n",
       "      <th>Length</th>\n",
       "      <th>FIRMF</th>\n",
       "      <th>FIRM</th>\n",
       "    </tr>\n",
       "  </thead>\n",
       "  <tbody>\n",
       "    <tr>\n",
       "      <th>0</th>\n",
       "      <td>0</td>\n",
       "      <td>170</td>\n",
       "      <td>680</td>\n",
       "      <td>510</td>\n",
       "      <td>-3</td>\n",
       "      <td>-3</td>\n",
       "    </tr>\n",
       "    <tr>\n",
       "      <th>1</th>\n",
       "      <td>0</td>\n",
       "      <td>920</td>\n",
       "      <td>1295</td>\n",
       "      <td>375</td>\n",
       "      <td>5</td>\n",
       "      <td>5</td>\n",
       "    </tr>\n",
       "    <tr>\n",
       "      <th>2</th>\n",
       "      <td>1</td>\n",
       "      <td>1130</td>\n",
       "      <td>1865</td>\n",
       "      <td>735</td>\n",
       "      <td>-2</td>\n",
       "      <td>1</td>\n",
       "    </tr>\n",
       "    <tr>\n",
       "      <th>3</th>\n",
       "      <td>0</td>\n",
       "      <td>670</td>\n",
       "      <td>1265</td>\n",
       "      <td>595</td>\n",
       "      <td>4</td>\n",
       "      <td>4</td>\n",
       "    </tr>\n",
       "    <tr>\n",
       "      <th>4</th>\n",
       "      <td>0</td>\n",
       "      <td>330</td>\n",
       "      <td>1049</td>\n",
       "      <td>719</td>\n",
       "      <td>3</td>\n",
       "      <td>3</td>\n",
       "    </tr>\n",
       "    <tr>\n",
       "      <th>...</th>\n",
       "      <td>...</td>\n",
       "      <td>...</td>\n",
       "      <td>...</td>\n",
       "      <td>...</td>\n",
       "      <td>...</td>\n",
       "      <td>...</td>\n",
       "    </tr>\n",
       "    <tr>\n",
       "      <th>7067</th>\n",
       "      <td>0</td>\n",
       "      <td>225</td>\n",
       "      <td>855</td>\n",
       "      <td>630</td>\n",
       "      <td>-1</td>\n",
       "      <td>-1</td>\n",
       "    </tr>\n",
       "    <tr>\n",
       "      <th>7068</th>\n",
       "      <td>1</td>\n",
       "      <td>1245</td>\n",
       "      <td>2030</td>\n",
       "      <td>785</td>\n",
       "      <td>0</td>\n",
       "      <td>5</td>\n",
       "    </tr>\n",
       "    <tr>\n",
       "      <th>7069</th>\n",
       "      <td>0</td>\n",
       "      <td>1201</td>\n",
       "      <td>1365</td>\n",
       "      <td>164</td>\n",
       "      <td>5</td>\n",
       "      <td>5</td>\n",
       "    </tr>\n",
       "    <tr>\n",
       "      <th>7070</th>\n",
       "      <td>0</td>\n",
       "      <td>945</td>\n",
       "      <td>1485</td>\n",
       "      <td>540</td>\n",
       "      <td>5</td>\n",
       "      <td>5</td>\n",
       "    </tr>\n",
       "    <tr>\n",
       "      <th>7071</th>\n",
       "      <td>1</td>\n",
       "      <td>1245</td>\n",
       "      <td>2035</td>\n",
       "      <td>790</td>\n",
       "      <td>-10</td>\n",
       "      <td>-7</td>\n",
       "    </tr>\n",
       "  </tbody>\n",
       "</table>\n",
       "<p>6947 rows × 6 columns</p>\n",
       "</div>"
      ],
      "text/plain": [
       "      Class  Start   End  Length  FIRMF  FIRM\n",
       "0         0    170   680     510     -3    -3\n",
       "1         0    920  1295     375      5     5\n",
       "2         1   1130  1865     735     -2     1\n",
       "3         0    670  1265     595      4     4\n",
       "4         0    330  1049     719      3     3\n",
       "...     ...    ...   ...     ...    ...   ...\n",
       "7067      0    225   855     630     -1    -1\n",
       "7068      1   1245  2030     785      0     5\n",
       "7069      0   1201  1365     164      5     5\n",
       "7070      0    945  1485     540      5     5\n",
       "7071      1   1245  2035     790    -10    -7\n",
       "\n",
       "[6947 rows x 6 columns]"
      ]
     },
     "execution_count": 1,
     "metadata": {},
     "output_type": "execute_result"
    }
   ],
   "source": [
    "import pandas as pd\n",
    "import numpy as np \n",
    "import matplotlib.pyplot as plt\n",
    "import matplotlib\n",
    "\n",
    "\n",
    "spiderman_data = pd.read_csv('FRAFirm2.csv')\n",
    "\n",
    "col_names = ['Class','Start','End','Length','FIRMF','FIRM']\n",
    "#preprocessing for data duplicates\n",
    "df = pd.DataFrame(spiderman_data)\n",
    "df = df.drop_duplicates()\n",
    "df = df[col_names]\n",
    "df"
   ]
  },
  {
   "cell_type": "markdown",
   "id": "e9744278",
   "metadata": {},
   "source": [
    "First, I'm going to keep it simple and only take a few features to analyze from the CSV file. Now, I can begin investigation by dividing workers into length of time (mins) that they worked. The initial interval is 3 hours or 180 mins. We might need to adjust this interval to gather more info. \n",
    "I'm going to make a function to generate bins based on minutes of interval."
   ]
  },
  {
   "cell_type": "code",
   "execution_count": 2,
   "id": "e07ce7f1",
   "metadata": {},
   "outputs": [
    {
     "name": "stdout",
     "output_type": "stream",
     "text": [
      "(156, 6)\n",
      "(566, 6)\n",
      "(1539, 6)\n",
      "(2440, 6)\n",
      "(1783, 6)\n",
      "(395, 6)\n",
      "(57, 6)\n",
      "(7, 6)\n",
      "(4, 6)\n"
     ]
    }
   ],
   "source": [
    "def bin_generator(interval_minute):\n",
    "    num_of_interval = 1440 // interval_minute\n",
    "    bin = []\n",
    "    for i in range(num_of_interval):\n",
    "        bin.append(df.loc[(df.Length <=(i+1)*interval_minute) & (df.Length > i*interval_minute)])\n",
    "    #any work shift longer than 24 hours are separated into another bin. \n",
    "    else:\n",
    "        bin.append(df[df.Length > 1440])\n",
    "    return bin\n",
    "\n",
    "bin_array = bin_generator(180)\n",
    "num_of_bin = len(bin_array)\n",
    "for _ in bin_array:\n",
    "    print(_.shape)"
   ]
  },
  {
   "cell_type": "markdown",
   "id": "410ebd23",
   "metadata": {},
   "source": [
    "Looking at the distribution, it's heavily concentrated in the middle. This means that most trains run during this 9 hours interval from 6AM to 3PM. We consider increasing/decreasing the number of bins to get multiple perspective. I'm going to try a couple different interval length. I used interval of 6 hours to separate the bins. \n",
    "The 4 values with longer workday length than 1 day will not be take into consideration when analyzing data since they're outliers. Also, all of their classes are 1 so the value_count() function in pandas will run into error when counting classes that doesn't exist and return an exception. "
   ]
  },
  {
   "cell_type": "code",
   "execution_count": 18,
   "id": "555447ac",
   "metadata": {},
   "outputs": [
    {
     "name": "stdout",
     "output_type": "stream",
     "text": [
      "[      Class  Start   End  Length  FIRMF  FIRM\n",
      "6         0    385   685     300      3     3\n",
      "14        0   1125  1425     300      5     5\n",
      "39        1   1180  1470     290    -10   -10\n",
      "42        1   1180  1470     290      5     5\n",
      "43        0   1120  1453     333      5     5\n",
      "...     ...    ...   ...     ...    ...   ...\n",
      "7056      0   1130  1480     350      2     2\n",
      "7058      1   1240  1410     170      5     5\n",
      "7061      1   1240  1410     170     -6    -6\n",
      "7062      0    376   696     320      4     4\n",
      "7069      0   1201  1365     164      5     5\n",
      "\n",
      "[722 rows x 6 columns],       Class  Start   End  Length  FIRMF  FIRM\n",
      "0         0    170   680     510     -3    -3\n",
      "1         0    920  1295     375      5     5\n",
      "3         0    670  1265     595      4     4\n",
      "4         0    330  1049     719      3     3\n",
      "7         0    701  1105     404     -7    -7\n",
      "...     ...    ...   ...     ...    ...   ...\n",
      "7060      0    350  1010     660      1     1\n",
      "7063      0    776  1473     697     -6    -6\n",
      "7066      0     85   730     645      2     2\n",
      "7067      0    225   855     630     -1    -1\n",
      "7070      0    945  1485     540      5     5\n",
      "\n",
      "[3979 rows x 6 columns],       Class  Start   End  Length  FIRMF  FIRM\n",
      "2         1   1130  1865     735     -2     1\n",
      "5         1   1130  1865     735    -10    -8\n",
      "9         2   1135  2005     870     -8    -2\n",
      "13        2   1135  2020     885     -7    -1\n",
      "21        1    865  1670     805      0     5\n",
      "...     ...    ...   ...     ...    ...   ...\n",
      "7041      0   1410  2190     780     -2    -2\n",
      "7064      0    466  1246     780    -10   -10\n",
      "7065      1   1036  1991     955    -10    -8\n",
      "7068      1   1245  2030     785      0     5\n",
      "7071      1   1245  2035     790    -10    -7\n",
      "\n",
      "[2178 rows x 6 columns],       Class  Start   End  Length  FIRMF  FIRM\n",
      "15        1    870  2070    1200     -8     4\n",
      "18        1    870  2070    1200     -7     5\n",
      "250       1   1063  2278    1215     -7     5\n",
      "253       1   1063  2283    1220    -10    -7\n",
      "328       1   1315  2515    1200     -9    -1\n",
      "...     ...    ...   ...     ...    ...   ...\n",
      "6213      2   1227  2396    1169     -5     2\n",
      "6216      2   1227  2396    1169     -7     1\n",
      "6339      2    290  1395    1105     -2     2\n",
      "6486      0   1110  2355    1245    -10   -10\n",
      "6667      0    780  1890    1110     -8    -8\n",
      "\n",
      "[64 rows x 6 columns],       Class  Start   End  Length  FIRMF  FIRM\n",
      "538       1   1380  3440    2060    -99    -2\n",
      "1343      1    675  2295    1620    -99     4\n",
      "4571      1   1305  3860    2555    -99     1\n",
      "5754      1    981  3526    2545    -99     5]\n",
      "(722, 6)\n",
      "(3979, 6)\n",
      "(2178, 6)\n",
      "(64, 6)\n",
      "(4, 6)\n"
     ]
    }
   ],
   "source": [
    "def bin_generator(interval_minute):\n",
    "    #note the floor division \n",
    "    num_of_interval = 1440 // interval_minute\n",
    "    bin = []\n",
    "    for i in range(num_of_interval):\n",
    "        bin.append(df.loc[(df.Length <=(i+1)*interval_minute) & (df.Length > i*interval_minute)])\n",
    "    #any work shift longer than 24 hours are separated into another bin and \n",
    "    else:\n",
    "        bin.append(df[df.Length > 1440])\n",
    "    return bin\n",
    "\n",
    "bin_array = bin_generator(360)\n",
    "print(bin_array)\n",
    "num_of_bin = len(bin_array)\n",
    "for _ in bin_array:\n",
    "    print(_.shape)\n"
   ]
  },
  {
   "cell_type": "code",
   "execution_count": 4,
   "id": "3002f446",
   "metadata": {},
   "outputs": [
    {
     "name": "stdout",
     "output_type": "stream",
     "text": [
      "608 75 39\n"
     ]
    }
   ],
   "source": [
    "def class_count(data_frame):\n",
    "    #count occurences of each class in dataframe\n",
    "    class0 = data_frame.Class.value_counts()[0]\n",
    "    class1 = data_frame.Class.value_counts()[1]\n",
    "    class2 = data_frame.Class.value_counts()[2]\n",
    "    return class0,class1,class2\n",
    "\n",
    "firstBin_noAccident,firstBin_type1,firstBin_type2 = class_count(bin_array[0])\n",
    "print(firstBin_noAccident,firstBin_type1,firstBin_type2)"
   ]
  },
  {
   "cell_type": "markdown",
   "id": "8f1f8302",
   "metadata": {},
   "source": [
    "Above, I wrote a function to count type of class and count if an accident occurred, and if so, is it type 1 or type 2. I'm planning to use this data to find out the frequency and relative frequency of accidents or lack thereof in different quartile of the day. Now I'm going to modify the function to take in an array of dataframe and process data so that all type 0 class count goes into 1 array, type 1 count into another array, and same thing for type 2. "
   ]
  },
  {
   "cell_type": "code",
   "execution_count": 22,
   "id": "ac393135",
   "metadata": {},
   "outputs": [
    {
     "name": "stdout",
     "output_type": "stream",
     "text": [
      "      Interval  Type 0  Type 1  Type 2\n",
      "0  1st Quarter     608      75      39\n",
      "1  2nd Quarter    3221     529     229\n",
      "2  3rd Quarter     954     948     276\n",
      "3  4th Quarter       7      31      26\n"
     ]
    }
   ],
   "source": [
    "def class_count(data_frame_array):\n",
    "    new_frame = {\n",
    "    'Interval':['1st Quarter','2nd Quarter','3rd Quarter','4th Quarter'],\n",
    "    'Type 0': [],\n",
    "    'Type 1': [],\n",
    "    'Type 2': [],   \n",
    "    }\n",
    "    \n",
    "    for i in range(len(data_frame_array)):\n",
    "        #count occurences of each class in the dataframe\n",
    "        class0 = data_frame_array[i].Class.value_counts()[0]\n",
    "        class1 = data_frame_array[i].Class.value_counts()[1]\n",
    "        class2 = data_frame_array[i].Class.value_counts()[2]        \n",
    "        new_frame['Type 0'].append(class0)\n",
    "        new_frame['Type 1'].append(class1)\n",
    "        new_frame['Type 2'].append(class2)\n",
    "    new_frame = pd.DataFrame(new_frame)\n",
    "    return new_frame\n",
    "processed_df = class_count(bin_array)\n",
    "print(processed_df)"
   ]
  },
  {
   "cell_type": "markdown",
   "id": "49cf43d8",
   "metadata": {},
   "source": [
    "Looking at the above data frame, we get a lot more information about how many and which type of accidents or not happen when. To make this easier to read, I'm going to present them in bar graphs. "
   ]
  },
  {
   "cell_type": "code",
   "execution_count": 23,
   "id": "d0fb4340",
   "metadata": {},
   "outputs": [
    {
     "data": {
      "image/png": "[encoded data removed]",
      "text/plain": [
       "<Figure size 640x480 with 1 Axes>"
      ]
     },
     "metadata": {},
     "output_type": "display_data"
    }
   ],
   "source": [
    "freq_graph = processed_df.plot(x=\"Interval\",y=[\"Type 0\",\"Type 1\",\"Type 2\"], kind=\"bar\")"
   ]
  },
  {
   "cell_type": "markdown",
   "id": "7d9b92fd",
   "metadata": {},
   "source": [
    "To normalize the data, I can use relative frequency and meaningfully compare data. "
   ]
  },
  {
   "cell_type": "code",
   "execution_count": 24,
   "id": "fe4e27dd",
   "metadata": {},
   "outputs": [
    {
     "name": "stdout",
     "output_type": "stream",
     "text": [
      "      Interval    Type 0    Type 1    Type 2\n",
      "0  1st Quarter  0.842105  0.103878  0.054017\n",
      "1  2nd Quarter  0.685173  0.112529  0.048713\n",
      "2  3rd Quarter  0.138683  0.137811  0.040122\n",
      "3  4th Quarter  0.001008  0.004465  0.003745\n"
     ]
    }
   ],
   "source": [
    "def class_count(data_frame_array):\n",
    "    new_frame = {\n",
    "    'Interval':['1st Quarter','2nd Quarter','3rd Quarter','4th Quarter'],\n",
    "    'Type 0': [],\n",
    "    'Type 1': [],\n",
    "    'Type 2': [],   \n",
    "    }\n",
    "    total = 0\n",
    "    for i in range(len(data_frame_array)):\n",
    "        #count occurences of each class in the dataframe\n",
    "        class0 = data_frame_array[i].Class.value_counts()[0]\n",
    "        class1 = data_frame_array[i].Class.value_counts()[1]\n",
    "        class2 = data_frame_array[i].Class.value_counts()[2] \n",
    "        #total workers in that quarter of day\n",
    "        total += class0 + class1 + class2\n",
    "        new_frame['Type 0'].append(class0/total)\n",
    "        new_frame['Type 1'].append(class1/total)\n",
    "        new_frame['Type 2'].append(class2/total)\n",
    "    new_frame = pd.DataFrame(new_frame)\n",
    "    return new_frame\n",
    "processed_df = class_count(bin_array)\n",
    "print(processed_df)"
   ]
  },
  {
   "cell_type": "code",
   "execution_count": 28,
   "id": "323339f1",
   "metadata": {},
   "outputs": [
    {
     "data": {
      "image/png": "[encoded data removed]",
      "text/plain": [
       "<Figure size 640x480 with 1 Axes>"
      ]
     },
     "metadata": {},
     "output_type": "display_data"
    }
   ],
   "source": [
    "freq_graph = processed_df.plot(x=\"Interval\",y=[\"Type 0\",\"Type 1\",\"Type 2\"], kind=\"bar\")"
   ]
  },
  {
   "cell_type": "markdown",
   "id": "c8757f8b",
   "metadata": {},
   "source": [
    "Looking at this relative frequency chart, type 1 and type 2 accidents are distinguishable. Type 1 accidents have a higher chance of occuring, regarless of time of day. It's twice as likely from 0001 to 1200, thrice as likely from 1201 to 1800, and 1.5 times as likely from 1801 to 0000. First question is answered."
   ]
  },
  {
   "cell_type": "markdown",
   "id": "9807d41d",
   "metadata": {},
   "source": [
    "Now I'm going to use machine learning algorithm to perform feature selection to find out which feature/column contributes the most to accurately predicting whether an accident happens, and which type. \n",
    "I'm going to use the wrapper method of backward elimination using OLS (\"Ordinary Least Squares\") model. \n",
    "1. Feed all possible features to the model at first\n",
    "2. Check performance of model\n",
    "3. Iteratively remove the worst performing features one by one until performance comes in acceptable range. \n",
    "4. Performance metric is pvalue. If pvalue > 0.05, we remove the feature. \n"
   ]
  },
  {
   "cell_type": "code",
   "execution_count": 44,
   "id": "b1bd3b61",
   "metadata": {},
   "outputs": [
    {
     "data": {
      "text/plain": [
       "const        1.682913e-10\n",
       "FIRM         1.378867e-62\n",
       "Class        0.000000e+00\n",
       "Start        0.000000e+00\n",
       "End          0.000000e+00\n",
       "TOD         6.312395e-148\n",
       "FIRMF        9.283375e-03\n",
       "Length       0.000000e+00\n",
       "Night        1.807637e-40\n",
       "Gap          1.661980e-32\n",
       "WS           5.604546e-08\n",
       "Idx          2.863147e-02\n",
       "Base         2.385043e-30\n",
       "StartAdj     9.744937e-11\n",
       "LenAdj       4.393826e-01\n",
       "Comp         7.750448e-13\n",
       "Trans        9.240880e-02\n",
       "Press        4.521666e-01\n",
       "P1S         2.079707e-106\n",
       "P1L          9.641958e-46\n",
       "P2S          3.566728e-05\n",
       "P2L          2.967381e-06\n",
       "MalAdj       6.901044e-01\n",
       "NFZ          7.339968e-01\n",
       "WNFZ         3.156902e-02\n",
       "AFZ          8.788590e-01\n",
       "WAFZ         1.786572e-01\n",
       "MFZ          9.620398e-01\n",
       "WMFZ         1.897214e-01\n",
       "NBad         3.753784e-02\n",
       "TIW          8.786233e-17\n",
       "RIW          3.976865e-01\n",
       "HIW          2.149261e-01\n",
       "SIW          9.668755e-01\n",
       "CCW          4.159747e-32\n",
       "dtype: float64"
      ]
     },
     "execution_count": 44,
     "metadata": {},
     "output_type": "execute_result"
    }
   ],
   "source": [
    "#importing libraries\n",
    "import seaborn as sns\n",
    "import statsmodels.api as sm\n",
    "%matplotlib inline\n",
    "from sklearn.model_selection import train_test_split\n",
    "from sklearn.linear_model import LinearRegression\n",
    "# from sklearn.feature_selection import RFE\n",
    "from sklearn.linear_model import RidgeCV, LassoCV, Ridge, Lasso\n",
    "\n",
    "whole_data = pd.read_csv('FRAFirm2.csv')\n",
    "df_ML = pd.DataFrame(whole_data)\n",
    "df_ML = df_ML.drop_duplicates()\n",
    "\n",
    "#OLS require a constant column\n",
    "X = sm.add_constant(df_ML)\n",
    "Y = df_ML[\"Class\"]\n",
    "#Fit the sm.OLS model\n",
    "model = sm.OLS(Y,X).fit()\n",
    "model.pvalues"
   ]
  },
  {
   "cell_type": "markdown",
   "id": "4f0f9a99",
   "metadata": {},
   "source": [
    "Look at this chart of pvalue, we can see that SIW has the highest pvalue of 0.966 so we will remove this feature and run the model again. Below is the loop and will conduct this testing and eventually output the final set of (hopefully) relevant features with lowest acceptable pvalues."
   ]
  },
  {
   "cell_type": "code",
   "execution_count": 53,
   "id": "60b472b5",
   "metadata": {},
   "outputs": [
    {
     "name": "stdout",
     "output_type": "stream",
     "text": [
      "const      7.861139e-67\n",
      "FIRM       7.393068e-80\n",
      "Class      0.000000e+00\n",
      "Start      0.000000e+00\n",
      "End        0.000000e+00\n",
      "TOD        3.309206e-52\n",
      "Length     0.000000e+00\n",
      "Gap       5.647279e-121\n",
      "Base       3.399405e-03\n",
      "P1S        6.933957e-03\n",
      "P2S        1.398963e-12\n",
      "P2L        6.752786e-69\n",
      "TIW        5.594852e-72\n",
      "dtype: float64\n",
      "['FIRM', 'Class', 'Start', 'End', 'TOD', 'Length', 'Gap', 'Base', 'P1S', 'P2S', 'P2L', 'TIW']\n"
     ]
    }
   ],
   "source": [
    "cols = list(df_ML.columns)\n",
    "pmax = 1\n",
    "while (len(cols)>0):\n",
    "    p = []\n",
    "    X = df_ML[cols]\n",
    "    X = sm.add_constant(X)\n",
    "    model = sm.OLS(Y,X).fit()\n",
    "    p = pd.Series(model.pvalues.values[1:],index = cols)\n",
    "    pmax = max(p)\n",
    "    feature_max_p = p.idxmax()\n",
    "\n",
    "    if pmax > 0.05:\n",
    "        cols.remove(feature_max_p)\n",
    "    else:\n",
    "        print(model.pvalues,end=\"\\n\")\n",
    "        break\n",
    "select_feature = cols\n",
    "print(select_feature)"
   ]
  },
  {
   "cell_type": "markdown",
   "id": "5a2264b9",
   "metadata": {},
   "source": [
    "We got this array of \"relevant\" features according to this algorithm. This answer question 3 of which features we should pay more attention to. Other columns not listed in this array of relevant features can be ignored in performing classification. I'm going to exclude \"Class\",\"Start\", and \"End\" since \"Class\" will always be best at predicting itself, \"Start\", \"End\", and \"Length\" since they are correlated with \"Class\". \n",
    "\n",
    "Question 2 can also be answered by looking at the metric and seeing that \"Gap\" and \"TIW\" are the only two features that is less than the constant, meaning it is very significant in predicting \"Class\". \n",
    "\n",
    "Upon closer analysis, the TOD have binary values consisting of -1 or 1470, where no accident and type 1 or type 2 accident occurred, respectively. Based solely on this column, one might draw the conclusion that type 1 and type 2 accident are indistinguishable. However, I find that analysis to be non-represented of the overall data. \n",
    "\n",
    "\n",
    "Relevant features are:\n",
    "['FIRM','TOD','Gap', 'Base', 'P1S', 'P2S', 'P2L', 'TIW']\n"
   ]
  },
  {
   "cell_type": "markdown",
   "id": "ba6cb49e",
   "metadata": {},
   "source": [
    "To tackle which one is a better metric between FIRM and FIRMF, we already a bit of an idea that FIRM is the better one from our feature selection round. However, I want to directly compare these two feature values and see how much better or worse against each other. "
   ]
  },
  {
   "cell_type": "code",
   "execution_count": 116,
   "id": "396ff31d",
   "metadata": {},
   "outputs": [
    {
     "name": "stdout",
     "output_type": "stream",
     "text": [
      "Distribution based on FIRM\n",
      "(999, 6)\n",
      "(1369, 6)\n",
      "(3396, 6)\n",
      "(1183, 6)\n",
      "Distribution based on FIRMF\n",
      "(1275, 6)\n",
      "(1547, 6)\n",
      "(3297, 6)\n",
      "(815, 6)\n",
      "FIRM Chart by Type of Accident\n",
      "   Fatigue Level    Type 0    Type 1    Type 2\n",
      "0     -10 to -6  0.663664  0.249249  0.087087\n",
      "1      -5 to -1  0.418497  0.116976  0.042652\n",
      "2        0 to 5  0.421756  0.123525  0.043893\n",
      "3       6 to 10  0.101483  0.050238  0.018569\n",
      "FIRMF Chart by Type of Accident\n",
      "   Fatigue Level    Type 0    Type 1    Type 2\n",
      "0     -10 to -6  0.520000  0.346667  0.133333\n",
      "1      -5 to -1  0.350461  0.151665  0.046067\n",
      "2        0 to 5  0.396307  0.104756  0.037751\n",
      "3       6 to 10  0.101529  0.010384  0.005624\n"
     ]
    },
    {
     "data": {
      "text/plain": [
       "<Axes: xlabel='Fatigue Level'>"
      ]
     },
     "execution_count": 116,
     "metadata": {},
     "output_type": "execute_result"
    },
    {
     "data": {
      "image/png": "[encoded data removed]",
      "text/plain": [
       "<Figure size 640x480 with 1 Axes>"
      ]
     },
     "metadata": {},
     "output_type": "display_data"
    }
   ],
   "source": [
    "#sort based on FIRM\n",
    "def firm_bin_gen(num_of_interval):\n",
    "    #note the floor division \n",
    "    space = 21//num_of_interval\n",
    "    bin = []\n",
    "    for i in range(-10,11,space):\n",
    "        bin.append(df.loc[(df.FIRM >= i) & (df.FIRM < (i+space))])\n",
    "\n",
    "    return bin\n",
    "#sort based on FIRMF\n",
    "def firmf_bin_gen(num_of_interval):\n",
    "    #note the floor division \n",
    "    space = 21//num_of_interval\n",
    "    bin = []\n",
    "    for i in range(-10,11,space):\n",
    "        bin.append(df.loc[(df.FIRMF >= i) & (df.FIRMF < (i+space))])\n",
    "    return bin\n",
    "def fatigue_class_count(data_frame_array):\n",
    "    new_frame = {\n",
    "    'Fatigue Level':['-10 to -6','-5 to -1','0 to 5','6 to 10'],\n",
    "    'Type 0': [],\n",
    "    'Type 1': [],\n",
    "    'Type 2': [],   \n",
    "    }\n",
    "    total = 0\n",
    "    for i in range(len(data_frame_array)):\n",
    "        #count occurences of each class in the dataframe\n",
    "        class0 = data_frame_array[i].Class.value_counts()[0]\n",
    "        class1 = data_frame_array[i].Class.value_counts()[1]\n",
    "        class2 = data_frame_array[i].Class.value_counts()[2] \n",
    "#         total workers in that bin\n",
    "        total += class0 + class1 + class2\n",
    "        new_frame['Type 0'].append(class0/total)\n",
    "        new_frame['Type 1'].append(class1/total)\n",
    "        new_frame['Type 2'].append(class2/total)\n",
    "    new_frame = pd.DataFrame(new_frame)\n",
    "    return new_frame\n",
    "\n",
    "print(\"Distribution based on FIRM\")\n",
    "#call FIRM function\n",
    "firm_array = firm_bin_gen(4)\n",
    "#remove an empty dataframe\n",
    "firm_array.pop(4)\n",
    "\n",
    "num_of_bin = len(firm_array)\n",
    "for _ in firm_array:\n",
    "     print(_.shape)\n",
    "print(\"Distribution based on FIRMF\")\n",
    "#call FIRMF function\n",
    "firmf_array = firmf_bin_gen(4)\n",
    "#remove an empty dataframe\n",
    "firmf_array.pop(4)\n",
    "\n",
    "num_of_bin = len(firmf_array)\n",
    "for _ in firmf_array:\n",
    "     print(_.shape)\n",
    "        \n",
    "\n",
    "processed_firm_df = fatigue_class_count(firm_array)\n",
    "\n",
    "print(\"FIRM Chart by Type of Accident\\n\",processed_firm_df)\n",
    "processed_firm_df[\"FIRM Type 0\"] = processed_firm_df[\"Type 0\"]\n",
    "processed_firm_df[\"FIRM Type 1\"] = processed_firm_df[\"Type 1\"]\n",
    "processed_firm_df[\"FIRM Type 2\"] = processed_firm_df[\"Type 2\"]\n",
    "\n",
    "processed_firmf_df = fatigue_class_count(firmf_array)\n",
    "print(\"FIRMF Chart by Type of Accident\\n\",processed_firmf_df)\n",
    "processed_firmf_df[\"FIRMF Type 0\"] = processed_firmf_df[\"Type 0\"]\n",
    "processed_firmf_df[\"FIRMF Type 1\"] = processed_firmf_df[\"Type 1\"]\n",
    "processed_firmf_df[\"FIRMF Type 2\"] = processed_firmf_df[\"Type 2\"]\n",
    "\n",
    "\n",
    "ax = processed_firm_df.plot(x=\"Fatigue Level\",y=[\"FIRM Type 0\",\"FIRM Type 1\",\"FIRM Type 2\"])\n",
    "processed_firmf_df.plot(ax=ax,x=\"Fatigue Level\",y=[\"FIRMF Type 0\",\"FIRMF Type 1\",\"FIRMF Type 2\"])\n"
   ]
  },
  {
   "cell_type": "markdown",
   "id": "3097288b",
   "metadata": {},
   "source": [
    "Looking at the plot and data points, I see that FIRM has lower ratio of fatigue level to accident whereas the ratio is higher for FIRMF. It isn't conclusive but I can make the assertion that if FIRM is used, it is more resistant to accident happening than FIRMF based on the Type 0 line. \n",
    "\n",
    "For type 1 and type 2 accident, both FIRMF and FIRM has a similar trend that indicates type 1 accident are more likely to happen than type 2 accident, lending more weight to my earlier analysis. "
   ]
  },
  {
   "cell_type": "code",
   "execution_count": null,
   "id": "c0b8a14f",
   "metadata": {},
   "outputs": [],
   "source": []
  }
 ],
 "metadata": {
  "kernelspec": {
   "display_name": "Python 3 (ipykernel)",
   "language": "python",
   "name": "python3"
  },
  "language_info": {
   "codemirror_mode": {
    "name": "ipython",
    "version": 3
   },
   "file_extension": ".py",
   "mimetype": "text/x-python",
   "name": "python",
   "nbconvert_exporter": "python",
   "pygments_lexer": "ipython3",
   "version": "3.11.5"
  }
 },
 "nbformat": 4,
 "nbformat_minor": 5
}
