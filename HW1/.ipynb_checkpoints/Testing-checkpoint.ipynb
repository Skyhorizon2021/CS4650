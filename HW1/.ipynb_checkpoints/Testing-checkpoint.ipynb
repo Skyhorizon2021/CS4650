{
 "cells": [
  {
   "cell_type": "code",
   "execution_count": 8,
   "id": "8faf2cd8",
   "metadata": {},
   "outputs": [
    {
     "name": "stdout",
     "output_type": "stream",
     "text": [
      "Overwriting wind_direction.py\n"
     ]
    }
   ],
   "source": [
    "%%file wind_direction.py\n",
    "import re\n",
    "import json\n",
    "\n",
    "from mrjob.job import MRJob\n",
    "\n",
    "QUALITY_RE = re.compile(r\"[01459]\")\n",
    "\n",
    "class Wind_Direction(MRJob):\n",
    "    \n",
    "    def mapper(self, _, line):\n",
    "        val = line.strip()\n",
    "        (wind_direction, wind_quality, temp, temp_quality) = (val[60:63], val[63:64], val[87:92], val[92:93])\n",
    "        if (wind_direction != \"+999\" and re.match(QUALITY_RE,wind_quality) and (temp != \"+9999\" and re.match(QUALITY_RE, temp_quality)):\n",
    "            yield wind_direction, int(temp)\n",
    "\n",
    "    def reducer(self, key, values):\n",
    "        yield key, min(values), max(values)\n",
    "\n",
    "if __name__ == '__main__':\n",
    "    wind_direction.run()"
   ]
  },
  {
   "cell_type": "code",
   "execution_count": null,
   "id": "5597a243",
   "metadata": {},
   "outputs": [],
   "source": []
  },
  {
   "cell_type": "code",
   "execution_count": null,
   "id": "59510f1b",
   "metadata": {},
   "outputs": [],
   "source": []
  },
  {
   "cell_type": "code",
   "execution_count": 40,
   "id": "8ea73f18",
   "metadata": {},
   "outputs": [
    {
     "name": "stdout",
     "output_type": "stream",
     "text": [
      "Overwriting wind_direction.py\n"
     ]
    }
   ],
   "source": [
    "%%file wind_direction.py\n",
    "import re\n",
    "import json\n",
    "\n",
    "from mrjob.job import MRJob\n",
    "\n",
    "QUALITY_RE = re.compile(r\"[01459]\")\n",
    "\n",
    "class Wind_Direction(MRJob):\n",
    "    \n",
    "    def mapper(self, _, line):\n",
    "        val = line.strip()\n",
    "        (wind_direction, wind_quality, temp, temp_quality) = (val[60:63], val[63:64], val[87:92], val[92:93])\n",
    "        if (wind_direction != \"999\" and re.match(QUALITY_RE,wind_quality)) and (temp != \"+9999\" and re.match(QUALITY_RE, temp_quality)):\n",
    "            yield wind_direction, int(temp)\n",
    "\n",
    "    def reducer(self, key, values):\n",
    "        yield key, min(values), max(values)\n",
    "\n",
    "if __name__ == '__main__':\n",
    "    Wind_Direction.run()"
   ]
  },
  {
   "cell_type": "code",
   "execution_count": 62,
   "id": "7e5c1955",
   "metadata": {},
   "outputs": [
    {
     "name": "stdout",
     "output_type": "stream",
     "text": [
      "Overwriting wind_direction.py\n"
     ]
    }
   ],
   "source": [
    "%%file wind_direction.py\n",
    "import re\n",
    "import json\n",
    "\n",
    "from mrjob.job import MRJob\n",
    "\n",
    "QUALITY_RE = re.compile(r\"[01459]\")\n",
    "\n",
    "class Wind_Direction(MRJob):\n",
    "    \n",
    "    def mapper(self, _, line):\n",
    "        val = line.strip()\n",
    "        (wind_direction, wind_quality, temp, temp_quality) = (val[60:63], val[63:64], val[87:92], val[92:93])\n",
    "        if (wind_direction != \"999\" and re.match(QUALITY_RE,wind_quality)) and (temp != \"+9999\" and re.match(QUALITY_RE, temp_quality)):\n",
    "            yield wind_direction, {\"temp\":temp,\"count\":1}\n",
    "\n",
    "    def reducer(self, key, values):\n",
    "        count = 0\n",
    "        max_temp = max(values[\"temp\"])\n",
    "        min_temp = min(values[\"temp\"])\n",
    "        for i in values:\n",
    "            count += i[\"count\"]\n",
    "        yield key, {\"low\":min_temp,\"high\":max_temp,\"count\":count}\n",
    "\n",
    "if __name__ == '__main__':\n",
    "    Wind_Direction.run()"
   ]
  },
  {
   "cell_type": "code",
   "execution_count": 63,
   "id": "83c6e563",
   "metadata": {},
   "outputs": [
    {
     "name": "stderr",
     "output_type": "stream",
     "text": [
      "No configs found; falling back on auto-configuration\n",
      "No configs specified for inline runner\n",
      "Creating temp directory C:\\Users\\locng\\AppData\\Local\\Temp\\wind_direction.locng.20231009.021748.493727\n",
      "Running step 1 of 1...\n",
      "\n",
      "Error while reading from C:\\Users\\locng\\AppData\\Local\\Temp\\wind_direction.locng.20231009.021748.493727\\step\\000\\reducer\\00000\\input:\n",
      "\n",
      "Traceback (most recent call last):\n",
      "  File \"C:\\Users\\locng\\Documents\\GitHub\\CS4650\\HW1\\wind_direction.py\", line 25, in <module>\n",
      "    Wind_Direction.run()\n",
      "  File \"C:\\ProgramData\\anaconda3\\envs\\CS4650\\Lib\\site-packages\\mrjob\\job.py\", line 616, in run\n",
      "    cls().execute()\n",
      "  File \"C:\\ProgramData\\anaconda3\\envs\\CS4650\\Lib\\site-packages\\mrjob\\job.py\", line 687, in execute\n",
      "    self.run_job()\n",
      "  File \"C:\\ProgramData\\anaconda3\\envs\\CS4650\\Lib\\site-packages\\mrjob\\job.py\", line 636, in run_job\n",
      "    runner.run()\n",
      "  File \"C:\\ProgramData\\anaconda3\\envs\\CS4650\\Lib\\site-packages\\mrjob\\runner.py\", line 503, in run\n",
      "    self._run()\n",
      "  File \"C:\\ProgramData\\anaconda3\\envs\\CS4650\\Lib\\site-packages\\mrjob\\sim.py\", line 161, in _run\n",
      "    self._run_step(step, step_num)\n",
      "  File \"C:\\ProgramData\\anaconda3\\envs\\CS4650\\Lib\\site-packages\\mrjob\\sim.py\", line 170, in _run_step\n",
      "    self._run_streaming_step(step, step_num)\n",
      "  File \"C:\\ProgramData\\anaconda3\\envs\\CS4650\\Lib\\site-packages\\mrjob\\sim.py\", line 187, in _run_streaming_step\n",
      "    self._run_reducers(step_num, num_reducer_tasks)\n",
      "  File \"C:\\ProgramData\\anaconda3\\envs\\CS4650\\Lib\\site-packages\\mrjob\\sim.py\", line 289, in _run_reducers\n",
      "    self._run_multiple(\n",
      "  File \"C:\\ProgramData\\anaconda3\\envs\\CS4650\\Lib\\site-packages\\mrjob\\sim.py\", line 130, in _run_multiple\n",
      "    func()\n",
      "  File \"C:\\ProgramData\\anaconda3\\envs\\CS4650\\Lib\\site-packages\\mrjob\\sim.py\", line 746, in _run_task\n",
      "    invoke_task(\n",
      "  File \"C:\\ProgramData\\anaconda3\\envs\\CS4650\\Lib\\site-packages\\mrjob\\inline.py\", line 133, in invoke_task\n",
      "    task.execute()\n",
      "  File \"C:\\ProgramData\\anaconda3\\envs\\CS4650\\Lib\\site-packages\\mrjob\\job.py\", line 681, in execute\n",
      "    self.run_reducer(self.options.step_num)\n",
      "  File \"C:\\ProgramData\\anaconda3\\envs\\CS4650\\Lib\\site-packages\\mrjob\\job.py\", line 795, in run_reducer\n",
      "    for k, v in self.reduce_pairs(read_lines(), step_num=step_num):\n",
      "  File \"C:\\ProgramData\\anaconda3\\envs\\CS4650\\Lib\\site-packages\\mrjob\\job.py\", line 866, in reduce_pairs\n",
      "    for k, v in self._combine_or_reduce_pairs(pairs, 'reducer', step_num):\n",
      "  File \"C:\\ProgramData\\anaconda3\\envs\\CS4650\\Lib\\site-packages\\mrjob\\job.py\", line 889, in _combine_or_reduce_pairs\n",
      "    for k, v in task(key, values) or ():\n",
      "  File \"C:\\Users\\locng\\Documents\\GitHub\\CS4650\\HW1\\wind_direction.py\", line 18, in reducer\n",
      "    max_temp = max(list(values[\"temp\"]))\n",
      "                        ~~~~~~^^^^^^^^\n",
      "TypeError: 'generator' object is not subscriptable\n"
     ]
    }
   ],
   "source": [
    "!python wind_direction.py 1901"
   ]
  },
  {
   "cell_type": "code",
   "execution_count": null,
   "id": "afae3c73",
   "metadata": {},
   "outputs": [],
   "source": []
  }
 ],
 "metadata": {
  "kernelspec": {
   "display_name": "Python 3 (ipykernel)",
   "language": "python",
   "name": "python3"
  },
  "language_info": {
   "codemirror_mode": {
    "name": "ipython",
    "version": 3
   },
   "file_extension": ".py",
   "mimetype": "text/x-python",
   "name": "python",
   "nbconvert_exporter": "python",
   "pygments_lexer": "ipython3",
   "version": "3.11.5"
  }
 },
 "nbformat": 4,
 "nbformat_minor": 5
}
