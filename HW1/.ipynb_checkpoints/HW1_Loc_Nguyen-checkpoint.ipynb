{
 "cells": [
  {
   "cell_type": "code",
   "execution_count": 2,
   "id": "5cc94d90",
   "metadata": {},
   "outputs": [
    {
     "name": "stdout",
     "output_type": "stream",
     "text": [
      "Writing wind_direction.py\n"
     ]
    }
   ],
   "source": [
    "%%file wind_direction.py\n",
    "import re\n",
    "import json\n",
    "\n",
    "from mrjob.job import MRJob\n",
    "\n",
    "QUALITY_RE = re.compile(r\"[01459]\")\n",
    "\n",
    "class Wind_Direction(MRJob):\n",
    "    \n",
    "    def mapper(self, _, line):\n",
    "        val = line.strip()\n",
    "        (wind_direction, wind_quality, temp, temp_quality) = (val[60:63], val[63:64], val[87:92], val[92:93])\n",
    "        if (wind_direction != \"999\" and re.match(QUALITY_RE,wind_quality)) and (temp != \"+9999\" and re.match(QUALITY_RE, temp_quality)):\n",
    "            yield wind_direction, {\"temp\":int(temp),\"count\":1}\n",
    "\n",
    "    def reducer(self, key, values):\n",
    "        count = 0\n",
    "        temp_arr = []\n",
    "        for i in values:\n",
    "            count += i[\"count\"]\n",
    "            temp_arr.append((i[\"temp\"]))\n",
    "        min_temp = min(temp_arr)\n",
    "        max_temp = max(temp_arr)\n",
    "        yield int(key), {\"low\":min_temp,\"high\":max_temp,\"count\":count}\n",
    "\n",
    "if __name__ == '__main__':\n",
    "    Wind_Direction.run()"
   ]
  },
  {
   "cell_type": "code",
   "execution_count": 4,
   "id": "cfb46cae",
   "metadata": {},
   "outputs": [
    {
     "name": "stdout",
     "output_type": "stream",
     "text": [
      "20\t{\"low\":-272,\"high\":317,\"count\":582}\n",
      "50\t{\"low\":-322,\"high\":306,\"count\":1039}\n",
      "70\t{\"low\":-333,\"high\":278,\"count\":502}\n",
      "90\t{\"low\":-267,\"high\":272,\"count\":567}\n",
      "110\t{\"low\":-239,\"high\":278,\"count\":296}\n",
      "140\t{\"low\":-328,\"high\":278,\"count\":1005}\n",
      "160\t{\"low\":-239,\"high\":289,\"count\":647}\n",
      "180\t{\"low\":-250,\"high\":294,\"count\":879}\n",
      "200\t{\"low\":-183,\"high\":300,\"count\":688}\n",
      "230\t{\"low\":-228,\"high\":283,\"count\":1488}\n",
      "250\t{\"low\":-222,\"high\":311,\"count\":604}\n",
      "270\t{\"low\":-211,\"high\":278,\"count\":931}\n",
      "290\t{\"low\":-328,\"high\":306,\"count\":379}\n",
      "320\t{\"low\":-311,\"high\":306,\"count\":1152}\n",
      "340\t{\"low\":-300,\"high\":311,\"count\":427}\n",
      "360\t{\"low\":-267,\"high\":289,\"count\":888}\n"
     ]
    },
    {
     "name": "stderr",
     "output_type": "stream",
     "text": [
      "No configs found; falling back on auto-configuration\n",
      "No configs specified for inline runner\n",
      "Creating temp directory C:\\Users\\locng\\AppData\\Local\\Temp\\wind_direction.locng.20231009.024308.204336\n",
      "Running step 1 of 1...\n",
      "job output is in C:\\Users\\locng\\AppData\\Local\\Temp\\wind_direction.locng.20231009.024308.204336\\output\n",
      "Streaming final output from C:\\Users\\locng\\AppData\\Local\\Temp\\wind_direction.locng.20231009.024308.204336\\output...\n",
      "Removing temp directory C:\\Users\\locng\\AppData\\Local\\Temp\\wind_direction.locng.20231009.024308.204336...\n"
     ]
    }
   ],
   "source": [
    "!python wind_direction.py 1901 1902"
   ]
  }
 ],
 "metadata": {
  "kernelspec": {
   "display_name": "Python 3 (ipykernel)",
   "language": "python",
   "name": "python3"
  },
  "language_info": {
   "codemirror_mode": {
    "name": "ipython",
    "version": 3
   },
   "file_extension": ".py",
   "mimetype": "text/x-python",
   "name": "python",
   "nbconvert_exporter": "python",
   "pygments_lexer": "ipython3",
   "version": "3.11.5"
  }
 },
 "nbformat": 4,
 "nbformat_minor": 5
}
